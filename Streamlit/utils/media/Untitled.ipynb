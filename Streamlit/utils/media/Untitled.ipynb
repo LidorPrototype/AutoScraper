{
 "cells": [
  {
   "cell_type": "code",
   "execution_count": 1,
   "id": "947506f2-f914-45b5-a52b-3c1b83672286",
   "metadata": {},
   "outputs": [],
   "source": [
    "field_names = []\n",
    "field_values = []"
   ]
  },
  {
   "cell_type": "code",
   "execution_count": 3,
   "id": "6e84acce-87e5-419e-be2a-4ff060de6165",
   "metadata": {},
   "outputs": [],
   "source": [
    "# init_cols = st.columns(2)"
   ]
  },
  {
   "cell_type": "code",
   "execution_count": 4,
   "id": "3736a576-d812-4a30-ad04-a346d1515656",
   "metadata": {},
   "outputs": [],
   "source": [
    "\n",
    "#     with init_cols[0]:\n",
    "#         numbers = int(st.number_input(fields_question, min_value=0, step=1))"
   ]
  },
  {
   "cell_type": "code",
   "execution_count": 5,
   "id": "73830f08-a668-4436-9dc0-7a73b4956783",
   "metadata": {},
   "outputs": [],
   "source": [
    " # Create number of requested fields\n",
    "#     col1, col2 = st.columns(2)"
   ]
  },
  {
   "cell_type": "code",
   "execution_count": 6,
   "id": "be762169-347b-459b-afbb-31cf43909615",
   "metadata": {},
   "outputs": [],
   "source": [
    "# if numbers > 0:\n",
    "#         for i in range(1, numbers + 1):\n",
    "#             with col1:\n",
    "#                 field_names.append(st.text_input(f\"Field {i}\", key=i))\n",
    "#             with col2:\n",
    "#                 field_values.append(st.text_input(f\"Value {i}\", key=i))"
   ]
  },
  {
   "cell_type": "code",
   "execution_count": 2,
   "id": "7f4cb4f9-e6a8-4551-a8f8-cac5460cf85b",
   "metadata": {},
   "outputs": [
    {
     "data": {
      "text/plain": [
       "[0, 18, 24, 42]"
      ]
     },
     "execution_count": 2,
     "metadata": {},
     "output_type": "execute_result"
    }
   ],
   "source": [
    "import re\n",
    "sentece = \"word1 word2 word3 word1 word1 word5 word2 word1\"\n",
    "word = 'word1'\n",
    "[m.start() for m in re.finditer(word, sentece)]"
   ]
  },
  {
   "cell_type": "code",
   "execution_count": 9,
   "id": "699470f4-473a-4c86-b9ea-c2a2c80b01cb",
   "metadata": {},
   "outputs": [
    {
     "name": "stdout",
     "output_type": "stream",
     "text": [
      "word1\n",
      "1drow\n"
     ]
    }
   ],
   "source": [
    "print(word)\n",
    "print(word[::-1])"
   ]
  },
  {
   "cell_type": "code",
   "execution_count": null,
   "id": "9b566d89-26a4-472a-abeb-521c75bc3bff",
   "metadata": {},
   "outputs": [],
   "source": []
  }
 ],
 "metadata": {
  "kernelspec": {
   "display_name": "Python 3",
   "language": "python",
   "name": "python3"
  },
  "language_info": {
   "codemirror_mode": {
    "name": "ipython",
    "version": 3
   },
   "file_extension": ".py",
   "mimetype": "text/x-python",
   "name": "python",
   "nbconvert_exporter": "python",
   "pygments_lexer": "ipython3",
   "version": "3.7.10"
  }
 },
 "nbformat": 4,
 "nbformat_minor": 5
}
